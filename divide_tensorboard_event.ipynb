{
 "cells": [
  {
   "cell_type": "code",
   "execution_count": 1,
   "metadata": {},
   "outputs": [],
   "source": [
    "import os"
   ]
  },
  {
   "cell_type": "code",
   "execution_count": 2,
   "metadata": {},
   "outputs": [
    {
     "ename": "ModuleNotFoundError",
     "evalue": "No module named 'matplotlib'",
     "output_type": "error",
     "traceback": [
      "\u001b[0;31m---------------------------------------------------------------------------\u001b[0m",
      "\u001b[0;31mModuleNotFoundError\u001b[0m                       Traceback (most recent call last)",
      "\u001b[0;32m/tmp/ipykernel_1228766/322768712.py\u001b[0m in \u001b[0;36m<module>\u001b[0;34m\u001b[0m\n\u001b[0;32m----> 1\u001b[0;31m \u001b[0;32mimport\u001b[0m \u001b[0mmatplotlib\u001b[0m\u001b[0;34m.\u001b[0m\u001b[0mpyplot\u001b[0m \u001b[0;32mas\u001b[0m \u001b[0mplt\u001b[0m\u001b[0;34m\u001b[0m\u001b[0;34m\u001b[0m\u001b[0m\n\u001b[0m",
      "\u001b[0;31mModuleNotFoundError\u001b[0m: No module named 'matplotlib'"
     ]
    }
   ],
   "source": [
    "import matplotlib.pyplot as plt"
   ]
  },
  {
   "cell_type": "code",
   "execution_count": 4,
   "metadata": {
    "scrolled": true
   },
   "outputs": [],
   "source": [
    "import tensorflow as tf\n",
    "\n",
    "# Function to extract scalar value from TensorBoard log\n",
    "def extract_scalar_from_tb(tb_log_dir, scalar_name):\n",
    "    scalar_values = {}\n",
    "    for event in os.listdir(tb_log_dir):\n",
    "        for e in tf.compat.v1.train.summary_iterator(os.path.join(tb_log_dir,event)):\n",
    "            for v in e.summary.value:\n",
    "                if v.tag == scalar_name:\n",
    "                    step = int(e.step)\n",
    "                    scalar_values[step] = v.simple_value\n",
    "    return scalar_values\n",
    "# Function to create a new TensorBoard log file with the extracted scalar value\n",
    "def create_tb_log_with_scalar(output_log_dir, scalar_name, scalar_values):\n",
    "    writer = tf.summary.create_file_writer(output_log_dir)\n",
    "\n",
    "    with writer.as_default():\n",
    "        for step, value in scalar_values.items():\n",
    "            tf.summary.scalar(\"validation/lm_loss\", value, step=step)\n",
    "        writer.flush()\n"
   ]
  },
  {
   "cell_type": "code",
   "execution_count": 9,
   "metadata": {},
   "outputs": [],
   "source": [
    "\n",
    "# Example usage\n",
    "tb_log_dir = 'tensorboard/JOB-4675911_49M_it-6000_wu-0_mxlr-0.00165_mnlr-3e-06_sch-cosine_cooldown_infinite_tr-german-train_resume/'\n",
    "output_log_dir = 'divided_logs'\n",
    "scalar_name = 'validation/val_1/lm_loss'\n",
    "\n",
    "# Extract scalar value from original log\n",
    "scalar_value = extract_scalar_from_tb(tb_log_dir, scalar_name)\n",
    "\n",
    "# Create new log with extracted scalar value\n",
    "create_tb_log_with_scalar(output_log_dir, scalar_name, scalar_value)\n"
   ]
  },
  {
   "cell_type": "code",
   "execution_count": null,
   "metadata": {},
   "outputs": [],
   "source": [
    "\n",
    "# Example usage\n",
    "tb_log_dir = 'path/to/your/original/tensorboard/log'\n",
    "output_log_dir = 'path/to/your/new/tensorboard/log'\n",
    "scalar_name = 'your_scalar_name'\n",
    "\n",
    "# Extract scalar value from original log\n",
    "scalar_value = extract_scalar_from_tb(tb_log_dir, scalar_name)\n",
    "\n",
    "# Create new log with extracted scalar value\n",
    "create_tb_log_with_scalar(output_log_dir, scalar_name, scalar_value)\n"
   ]
  }
 ],
 "metadata": {
  "kernelspec": {
   "display_name": "Python 3 (condaTTA)",
   "language": "python",
   "name": "condatta"
  },
  "language_info": {
   "codemirror_mode": {
    "name": "ipython",
    "version": 3
   },
   "file_extension": ".py",
   "mimetype": "text/x-python",
   "name": "python",
   "nbconvert_exporter": "python",
   "pygments_lexer": "ipython3",
   "version": "3.7.16"
  }
 },
 "nbformat": 4,
 "nbformat_minor": 4
}
